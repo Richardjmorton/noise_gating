{
 "cells": [
  {
   "cell_type": "markdown",
   "metadata": {},
   "source": [
    "# Collection of Functions within notebook to then port to specific .py files\n",
    "\n",
    "Useful reference: http://mathesaurus.sourceforge.net/idl-numpy.html\n"
   ]
  },
  {
   "cell_type": "markdown",
   "metadata": {},
   "source": [
    "## APOD3D Helping function"
   ]
  },
  {
   "cell_type": "code",
   "execution_count": 34,
   "metadata": {
    "ExecuteTime": {
     "end_time": "2020-11-25T10:32:39.142623Z",
     "start_time": "2020-11-25T10:32:39.132318Z"
    },
    "tags": []
   },
   "outputs": [],
   "source": [
    "import numpy as np\n",
    "\n",
    "\n",
    "def do_apod3d(nx, ny, nz):\n",
    "    '''\n",
    "    Construct a 3D dimensional apodisation function\n",
    "\n",
    "    Parameters\n",
    "    ----------\n",
    "        Dimensions of required cube\n",
    "        nx - int\n",
    "        ny - int\n",
    "        nz - int\n",
    "\n",
    "    '''\n",
    "\n",
    "    apodx = np.sin(np.pi*(np.arange(0, nx, 1, dtype=float)+0.5)/nx) ** 2\n",
    "    apody = np.sin(np.pi*(np.arange(0, ny, 1, dtype=float)+0.5)/ny) ** 2\n",
    "    apodz = np.sin(np.pi*(np.arange(0, nz, 1, dtype=float)+0.5)/nz) ** 2\n",
    "\n",
    "    apodxy = np.matmul(apodx[:, np.newaxis], apody[np.newaxis, :])\n",
    "    apodxyz = np.matmul(apodxy[:, :, np.newaxis], apodz[np.newaxis, :])\n",
    "\n",
    "    return apodxyz\n",
    "\n",
    "\n",
    "# basic unit test to see if apodisation is working\n",
    "apod = do_apod3d(20, 20, 20)\n",
    "assert apod.shape == (20, 20, 20), 'Dimensions incorrect'"
   ]
  },
  {
   "cell_type": "code",
   "execution_count": 40,
   "metadata": {
    "ExecuteTime": {
     "end_time": "2020-11-25T10:34:14.596992Z",
     "start_time": "2020-11-25T10:34:14.189503Z"
    }
   },
   "outputs": [
    {
     "data": {
      "text/plain": [
       "[<matplotlib.lines.Line2D at 0x124b90510>]"
      ]
     },
     "execution_count": 40,
     "metadata": {},
     "output_type": "execute_result"
    },
    {
     "data": {
      "image/png": "[encoded data removed]",
      "text/plain": [
       "<Figure size 1080x216 with 3 Axes>"
      ]
     },
     "metadata": {
      "needs_background": "light"
     },
     "output_type": "display_data"
    }
   ],
   "source": [
    "fig, ax = plt.subplots(1,3, figsize=(15,3))\n",
    "_ = ax[0].plot(test[:,20,20])\n",
    "_ = ax[1].plot(test[20,:,20])\n",
    "_ = ax[2].plot(test[20,20,:])"
   ]
  },
  {
   "cell_type": "markdown",
   "metadata": {},
   "source": [
    "## noise_gate"
   ]
  },
  {
   "cell_type": "code",
   "execution_count": 78,
   "metadata": {
    "ExecuteTime": {
     "end_time": "2020-11-25T13:16:57.701936Z",
     "start_time": "2020-11-25T13:16:57.498787Z"
    },
    "tags": []
   },
   "outputs": [
    {
     "name": "stdout",
     "output_type": "stream",
     "text": [
      "Calculating noise model...\n"
     ]
    },
    {
     "data": {
      "image/png": "[encoded data removed]",
      "text/plain": [
       "<Figure size 432x288 with 1 Axes>"
      ]
     },
     "metadata": {
      "needs_background": "light"
     },
     "output_type": "display_data"
    }
   ],
   "source": [
    "# Performs noise-gating of images\n",
    "\n",
    "\n",
    "# INPUT - data cube\n",
    "\n",
    "# OUTPUT - noise-gated data cube\n",
    "\n",
    "# OPTIONAL INPUTS - gate - use gating (default is Weiner Filter)\n",
    "#                   dct - use Discrete Fourier Transform (much slower)\n",
    "#                   perc - percentage level of samples to calculate noise level, default 0.5 (median)\n",
    "#                   gamma - level of SNR to use as a cut-off value, default is 1.5\n",
    "#                   image_indepen_noise - calculation for removal of image independent additive noise\n",
    "# TO DO - Parallelise -> WHERE?\n",
    "\n",
    "import numpy as np\n",
    "from scipy.fftpack import fft, ifft\n",
    "\n",
    "# Recommend using \"Utils\" Object to hold all relevant functions / image information\n",
    "\n",
    "\n",
    "class ImageCube:\n",
    "    def __init__(self, image, fourier_image):\n",
    "        self.image = image\n",
    "        self.fourier_image = fourier_image\n",
    "\n",
    "    def _estimate_shot_noise(self):\n",
    "        fac = np.sum(np.sqrt(self.image[self.image > 0]))\n",
    "        betas = np.abs(self.fourier_image)/fac\n",
    "        self.betas = betas\n",
    "        return betas\n",
    "\n",
    "    def _image_indepen_noise(self):\n",
    "        betas = np.abs(self.fourier_image)\n",
    "        self.betas = betas\n",
    "        return betas\n",
    "\n",
    "    def gate(self, gamm=1.5):\n",
    "        filt = (1/gamm) * np.abs(self.fourier_image) / self.betas\n",
    "        filt = filt[filt > 1]\n",
    "        return filt\n",
    "\n",
    "    def wiener_filt(self, gamm=1.5):\n",
    "        filt = np.abs(self.fourier_image) / \\\n",
    "            (gamm*self.betas+np.abs(self.fourier_image))\n",
    "        return filt\n",
    "\n",
    "\n",
    "def noise_gate(data, gated_data=False, win_size=12,\n",
    "               image_indepen_noise=True, perc=0.5, beta_const=False):\n",
    "    \"\"\"\n",
    "    Noise-gate a data cube.\n",
    "\n",
    "    :param data: Data cube\n",
    "    :param gated_data: ???\n",
    "    :param dct: ???\n",
    "    \"\"\"\n",
    "    nx, ny, nz = data.shape\n",
    "\n",
    "    half_win = win_size / 2\n",
    "\n",
    "    # Apodisation cube for sub-images\n",
    "    apod = do_apod3d(win_size, win_size, win_size)\n",
    "\n",
    "    # Loop for calculating noise profile -> Is this what can be parallelised?\n",
    "    # No, this is quite quick\n",
    "\n",
    "    print(\"Calculating noise model...\")\n",
    "\n",
    "    stridesx = np.arange(half_win, nx-half_win-1, step=win_size)\n",
    "    stridesy = np.arange(half_win, ny-half_win-1, step=win_size)\n",
    "\n",
    "    noise_elem = len(stridesx)*len(stridesy)\n",
    "    # Scratch array = Zeroes array\n",
    "    noise_arr = np.zeros(shape=(win_size, win_size, win_size, noise_elem))\n",
    "\n",
    "    # get estimates for noise from multiple sub-images\n",
    "    for count, (i, j) in enumerate(product(stridesx, stridesy)):\n",
    "\n",
    "        # define current coordinates\n",
    "        x = (int(i-half_win), int(i+half_win))\n",
    "        y = (int(j-half_win), int(j+half_win))\n",
    "\n",
    "        # define sub)iamge and Apod\n",
    "        sub_image = data[x[0]:x[1], y[0]:y[1], 0:win_size] * apod\n",
    "        fourier_image = fft(sub_image)\n",
    "\n",
    "        subImageCube = ImageCube(sub_image, fourier_image)\n",
    "\n",
    "        if image_indepen_noise:\n",
    "            subImageCube._image_indepen_noise()\n",
    "        else:\n",
    "            subImageCube._estimate_shot_noise()\n",
    "\n",
    "        noise_arr[:, :, :, count] = subImageCube.betas\n",
    "\n",
    "    # Set noise profile\n",
    "    if beta_const:\n",
    "        betas = (noise_arr[np.sort(noise_arr)])[perc*len(noise_arr)]\n",
    "    else:\n",
    "        betas = np.zeros((win_size, win_size, win_size))\n",
    "\n",
    "        stride = np.arange(0, win_size)\n",
    "        for i, j, k in product(stride, stride, stride):\n",
    "            strip = noise_arr[i, j, k, :]\n",
    "            perc_val = int(perc*noise_elem)\n",
    "            betas[i, j, k] = np.sort(np.abs(strip))[perc_val]\n",
    "\n",
    "\n",
    "if __name__ == '__main__':\n",
    "\n",
    "    data_cube = np.random.rand(100, 100, 100)\n",
    "\n",
    "    noise_arr = noise_gate(data=data_cube)"
   ]
  },
  {
   "cell_type": "code",
   "execution_count": null,
   "metadata": {},
   "outputs": [],
   "source": []
  }
 ],
 "metadata": {
  "kernelspec": {
   "display_name": "Python 3",
   "language": "python",
   "name": "python3"
  },
  "language_info": {
   "codemirror_mode": {
    "name": "ipython",
    "version": 3
   },
   "file_extension": ".py",
   "mimetype": "text/x-python",
   "name": "python",
   "nbconvert_exporter": "python",
   "pygments_lexer": "ipython3",
   "version": "3.7.4"
  },
  "toc": {
   "base_numbering": 1,
   "nav_menu": {},
   "number_sections": true,
   "sideBar": true,
   "skip_h1_title": false,
   "title_cell": "Table of Contents",
   "title_sidebar": "Contents",
   "toc_cell": false,
   "toc_position": {},
   "toc_section_display": true,
   "toc_window_display": false
  },
  "varInspector": {
   "cols": {
    "lenName": 16,
    "lenType": 16,
    "lenVar": 40
   },
   "kernels_config": {
    "python": {
     "delete_cmd_postfix": "",
     "delete_cmd_prefix": "del ",
     "library": "var_list.py",
     "varRefreshCmd": "print(var_dic_list())"
    },
    "r": {
     "delete_cmd_postfix": ") ",
     "delete_cmd_prefix": "rm(",
     "library": "var_list.r",
     "varRefreshCmd": "cat(var_dic_list()) "
    }
   },
   "types_to_exclude": [
    "module",
    "function",
    "builtin_function_or_method",
    "instance",
    "_Feature"
   ],
   "window_display": false
  }
 },
 "nbformat": 4,
 "nbformat_minor": 2
}
