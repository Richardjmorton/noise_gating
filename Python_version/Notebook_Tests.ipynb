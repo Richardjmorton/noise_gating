{
 "cells": [
  {
   "cell_type": "markdown",
   "metadata": {},
   "source": [
    "# Collection of Functions within notebook to then port to specific .py files\n",
    "\n",
    "Useful reference: http://mathesaurus.sourceforge.net/idl-numpy.html\n"
   ]
  },
  {
   "cell_type": "markdown",
   "metadata": {},
   "source": [
    "## APOD3D Helping function"
   ]
  },
  {
   "cell_type": "code",
   "execution_count": 28,
   "metadata": {
    "tags": []
   },
   "outputs": [
    {
     "output_type": "execute_result",
     "data": {
      "text/plain": "array([6.15582970e-03, 5.44967379e-02, 1.46446609e-01, 2.73004750e-01,\n       4.21782767e-01, 5.78217233e-01, 7.26995250e-01, 8.53553391e-01,\n       9.45503262e-01, 9.93844170e-01, 9.93844170e-01, 9.45503262e-01,\n       8.53553391e-01, 7.26995250e-01, 5.78217233e-01, 4.21782767e-01,\n       2.73004750e-01, 1.46446609e-01, 5.44967379e-02, 6.15582970e-03,\n       2.00000000e+01, 2.00000000e+01, 2.00000000e+01])"
     },
     "metadata": {},
     "execution_count": 28
    }
   ],
   "source": [
    "import numpy as np\n",
    "\n",
    "def do_apod3d(nx, ny, nz, squared):\n",
    "\n",
    "    if squared:\n",
    "        apodx = np.sin(np.pi*(np.arange(0, nx, 1, dtype=float)+0.5)/nx) ** 2 \n",
    "        apody = np.sin(np.pi*(np.arange(0, ny, 1, dtype=float)+0.5)/ny) ** 2 \n",
    "        apodz = np.sin(np.pi*(np.arange(0, nz, 1, dtype=float)+0.5)/nz) ** 2\n",
    "\n",
    "        # TODO: Figure out what is meant to happen with these vectors\n",
    "        apodxy = np.multiply(apodx, apody)\n",
    "        apodxy = np.concatenate((apodxy, [nx,ny,nz]))\n",
    "        apodz2 = np.transpose(np.concatenate((apodz, [nz, nz, ny])))\n",
    "\n",
    "        apodxyz = apodz2\n",
    "\n",
    "    return apodxyz\n",
    "\n",
    "do_apod3d(20,20,20, True)"
   ]
  },
  {
   "cell_type": "markdown",
   "metadata": {},
   "source": [
    "## noise_gate"
   ]
  },
  {
   "cell_type": "code",
   "execution_count": 32,
   "metadata": {
    "tags": []
   },
   "outputs": [
    {
     "output_type": "stream",
     "name": "stdout",
     "text": "[ 0.01703709  0.14644661  0.37059048  0.62940952  0.85355339  0.98296291\n  0.98296291  0.85355339  0.62940952  0.37059048  0.14644661  0.01703709\n 12.         12.         12.        ]\n"
    }
   ],
   "source": [
    "# Performs noise-gating of images\n",
    "\n",
    "\n",
    "# INPUT - data cube\n",
    "\n",
    "# OUTPUT - noise-gated data cube\n",
    "\n",
    "# OPTIONAL INPUTS - gate - use gating (default is Weiner Filter)\n",
    "#                   dct - use Discrete Fourier Transform (much slower)\n",
    "#                   perc - percentage level of samples to calculate noise level, default 0.5 (median)\n",
    "#                   gamma - level of SNR to use as a cut-off value, default is 1.5\n",
    "#                   image_indepen_noise - calculation for removal of image independent additive noise\n",
    "# TO DO - Parallelise -> WHERE?\n",
    "\n",
    "import numpy as np\n",
    "\n",
    "# Recommend using \"Utils\" Object to hold all relevant functions / image information\n",
    "class Utils:\n",
    "    def __init__(self, fourier_image, image):\n",
    "        self.image = image\n",
    "        self.fourier_image = fourier_image\n",
    "\n",
    "    def _estimate_shot_noise(self):\n",
    "        fac = np.sum(np.sqrt(self.image[self.image>0]))\n",
    "        betas = np.abs(self.fourier_image)/fac\n",
    "        return betas\n",
    "\n",
    "    def _image_indepen_noise(self):\n",
    "        betas = np.abs(self.fourier_image)\n",
    "        return betas\n",
    "\n",
    "    def gate(self, betas, gamm=1.5):\n",
    "        filt = (1/gamm) * np.abs(self.fourier_image) / betas\n",
    "        filt = filt[filt>1]\n",
    "        return filt\n",
    "\n",
    "    def wiener_filt(self, betas, gamm=1.5):\n",
    "        filt = np.abs(self.fourier_image) / (gamm*betas+np.abs(self.fourier_image))\n",
    "        return filt\n",
    "\n",
    "\n",
    "def noise_gate(data, gated_data=False):\n",
    "    \"\"\"\n",
    "    Noise-gate a data cube.\n",
    "\n",
    "    :param data: Data cube\n",
    "    :param gated_data\n",
    "    \"\"\"\n",
    "    sz = data.shape\n",
    "    nx, ny, nz = sz[0], sz[1], sz[2]\n",
    "\n",
    "    win_size = 12\n",
    "    half_win = win_size / 2\n",
    "\n",
    "    # Apodisation cube for sub-images\n",
    "    apod = do_apod3d(win_size, win_size, win_size, squared=True)\n",
    "\n",
    "    noise_elem = nx*ny / win_size / win_size\n",
    "    noise_arr = \n",
    "\n",
    "\n",
    "if __name__ == '__main__':\n",
    "    data_cube = np.random.rand(100,100,100)\n",
    "\n",
    "    noise_gate(data_cube)"
   ]
  }
 ],
 "metadata": {
  "language_info": {
   "codemirror_mode": {
    "name": "ipython",
    "version": 3
   },
   "file_extension": ".py",
   "mimetype": "text/x-python",
   "name": "python",
   "nbconvert_exporter": "python",
   "pygments_lexer": "ipython3",
   "version": "3.7.6-final"
  },
  "orig_nbformat": 2,
  "kernelspec": {
   "name": "python_defaultSpec_1599224695252",
   "display_name": "Python 3.7.6 64-bit ('base': conda)"
  }
 },
 "nbformat": 4,
 "nbformat_minor": 2
}