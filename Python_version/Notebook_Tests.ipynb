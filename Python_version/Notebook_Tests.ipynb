{
 "cells": [
  {
   "cell_type": "markdown",
   "metadata": {},
   "source": [
    "# Collection of Functions within notebook to then port to specific .py files\n",
    "\n",
    "Useful reference: http://mathesaurus.sourceforge.net/idl-numpy.html\n"
   ]
  },
  {
   "cell_type": "markdown",
   "metadata": {},
   "source": [
    "## APOD3D Helping function"
   ]
  },
  {
   "cell_type": "code",
   "execution_count": 2,
   "metadata": {
    "tags": []
   },
   "outputs": [],
   "source": [
    "import numpy as np\n",
    "\n",
    "def do_apod3d(nx, ny, nz, squared):\n",
    "\n",
    "    if squared:\n",
    "        apodx = np.sin(np.pi*(np.arange(0, nx, 1, dtype=float)+0.5)/nx) ** 2 \n",
    "        apody = np.sin(np.pi*(np.arange(0, ny, 1, dtype=float)+0.5)/ny) ** 2 \n",
    "        apodz = np.sin(np.pi*(np.arange(0, nz, 1, dtype=float)+0.5)/nz) ** 2\n",
    "\n",
    "        # TODO: Figure out what is meant to happen with these vectors\n",
    "        apodxy = np.multiply(apodx, apody)\n",
    "        apodxy = np.concatenate((apodxy, [nx,ny,nz]))\n",
    "        apodz2 = np.transpose(np.concatenate((apodz, [nz, nz, ny])))\n",
    "\n",
    "        apodxyz = apodz2\n",
    "\n",
    "    return apodxyz\n",
    "\n",
    "# Test call -> I can't verify if it's correct on IDL\n",
    "# do_apod3d(20,20,20, True)"
   ]
  },
  {
   "cell_type": "markdown",
   "metadata": {},
   "source": [
    "## noise_gate"
   ]
  },
  {
   "cell_type": "code",
   "execution_count": 6,
   "metadata": {
    "tags": []
   },
   "outputs": [
    {
     "output_type": "stream",
     "name": "stdout",
     "text": "Calculating noise model...\n(11, 11, 11) (15,)\n"
    },
    {
     "output_type": "error",
     "ename": "TypeError",
     "evalue": "bad operand type for abs(): 'NoneType'",
     "traceback": [
      "\u001b[0;31m---------------------------------------------------------------------------\u001b[0m",
      "\u001b[0;31mTypeError\u001b[0m                                 Traceback (most recent call last)",
      "\u001b[0;32m<ipython-input-6-235627297821>\u001b[0m in \u001b[0;36m<module>\u001b[0;34m\u001b[0m\n\u001b[1;32m    101\u001b[0m     \u001b[0mdata_cube\u001b[0m \u001b[0;34m=\u001b[0m \u001b[0mnp\u001b[0m\u001b[0;34m.\u001b[0m\u001b[0mrandom\u001b[0m\u001b[0;34m.\u001b[0m\u001b[0mrand\u001b[0m\u001b[0;34m(\u001b[0m\u001b[0;36m100\u001b[0m\u001b[0;34m,\u001b[0m\u001b[0;36m100\u001b[0m\u001b[0;34m,\u001b[0m\u001b[0;36m100\u001b[0m\u001b[0;34m)\u001b[0m\u001b[0;34m\u001b[0m\u001b[0;34m\u001b[0m\u001b[0m\n\u001b[1;32m    102\u001b[0m \u001b[0;34m\u001b[0m\u001b[0m\n\u001b[0;32m--> 103\u001b[0;31m     \u001b[0mnoise_arr\u001b[0m \u001b[0;34m=\u001b[0m \u001b[0mnoise_gate\u001b[0m\u001b[0;34m(\u001b[0m\u001b[0mdata\u001b[0m\u001b[0;34m=\u001b[0m\u001b[0mdata_cube\u001b[0m\u001b[0;34m)\u001b[0m\u001b[0;34m\u001b[0m\u001b[0;34m\u001b[0m\u001b[0m\n\u001b[0m",
      "\u001b[0;32m<ipython-input-6-235627297821>\u001b[0m in \u001b[0;36mnoise_gate\u001b[0;34m(data, gated_data, dct, image_indepen_noise)\u001b[0m\n\u001b[1;32m     86\u001b[0m \u001b[0;34m\u001b[0m\u001b[0m\n\u001b[1;32m     87\u001b[0m             \u001b[0;32mif\u001b[0m \u001b[0mimage_indepen_noise\u001b[0m\u001b[0;34m:\u001b[0m\u001b[0;34m\u001b[0m\u001b[0;34m\u001b[0m\u001b[0m\n\u001b[0;32m---> 88\u001b[0;31m                 \u001b[0msubImageCube\u001b[0m\u001b[0;34m.\u001b[0m\u001b[0m_image_indepen_noise\u001b[0m\u001b[0;34m(\u001b[0m\u001b[0;34m)\u001b[0m\u001b[0;34m\u001b[0m\u001b[0;34m\u001b[0m\u001b[0m\n\u001b[0m\u001b[1;32m     89\u001b[0m             \u001b[0;32melse\u001b[0m\u001b[0;34m:\u001b[0m\u001b[0;34m\u001b[0m\u001b[0;34m\u001b[0m\u001b[0m\n\u001b[1;32m     90\u001b[0m                 \u001b[0msubImageCube\u001b[0m\u001b[0;34m.\u001b[0m\u001b[0m_estimate_shot_noise\u001b[0m\u001b[0;34m(\u001b[0m\u001b[0;34m)\u001b[0m\u001b[0;34m\u001b[0m\u001b[0;34m\u001b[0m\u001b[0m\n",
      "\u001b[0;32m<ipython-input-6-235627297821>\u001b[0m in \u001b[0;36m_image_indepen_noise\u001b[0;34m(self)\u001b[0m\n\u001b[1;32m     28\u001b[0m \u001b[0;34m\u001b[0m\u001b[0m\n\u001b[1;32m     29\u001b[0m     \u001b[0;32mdef\u001b[0m \u001b[0m_image_indepen_noise\u001b[0m\u001b[0;34m(\u001b[0m\u001b[0mself\u001b[0m\u001b[0;34m)\u001b[0m\u001b[0;34m:\u001b[0m\u001b[0;34m\u001b[0m\u001b[0;34m\u001b[0m\u001b[0m\n\u001b[0;32m---> 30\u001b[0;31m         \u001b[0mbetas\u001b[0m \u001b[0;34m=\u001b[0m \u001b[0mnp\u001b[0m\u001b[0;34m.\u001b[0m\u001b[0mabs\u001b[0m\u001b[0;34m(\u001b[0m\u001b[0mself\u001b[0m\u001b[0;34m.\u001b[0m\u001b[0mfourier_image\u001b[0m\u001b[0;34m)\u001b[0m\u001b[0;34m\u001b[0m\u001b[0;34m\u001b[0m\u001b[0m\n\u001b[0m\u001b[1;32m     31\u001b[0m         \u001b[0mself\u001b[0m\u001b[0;34m.\u001b[0m\u001b[0mbetas\u001b[0m \u001b[0;34m=\u001b[0m \u001b[0mbetas\u001b[0m\u001b[0;34m\u001b[0m\u001b[0;34m\u001b[0m\u001b[0m\n\u001b[1;32m     32\u001b[0m         \u001b[0;32mreturn\u001b[0m \u001b[0mbetas\u001b[0m\u001b[0;34m\u001b[0m\u001b[0;34m\u001b[0m\u001b[0m\n",
      "\u001b[0;31mTypeError\u001b[0m: bad operand type for abs(): 'NoneType'"
     ]
    }
   ],
   "source": [
    "# Performs noise-gating of images\n",
    "\n",
    "\n",
    "# INPUT - data cube\n",
    "\n",
    "# OUTPUT - noise-gated data cube\n",
    "\n",
    "# OPTIONAL INPUTS - gate - use gating (default is Weiner Filter)\n",
    "#                   dct - use Discrete Fourier Transform (much slower)\n",
    "#                   perc - percentage level of samples to calculate noise level, default 0.5 (median)\n",
    "#                   gamma - level of SNR to use as a cut-off value, default is 1.5\n",
    "#                   image_indepen_noise - calculation for removal of image independent additive noise\n",
    "# TO DO - Parallelise -> WHERE?\n",
    "\n",
    "import numpy as np\n",
    "\n",
    "# Recommend using \"Utils\" Object to hold all relevant functions / image information\n",
    "class ImageCube:\n",
    "    def __init__(self, image, fourier_image):\n",
    "        self.image = image\n",
    "        self.fourier_image = fourier_image\n",
    "\n",
    "    def _estimate_shot_noise(self):\n",
    "        fac = np.sum(np.sqrt(self.image[self.image>0]))\n",
    "        betas = np.abs(self.fourier_image)/fac\n",
    "        self.betas = betas\n",
    "        return betas\n",
    "\n",
    "    def _image_indepen_noise(self):\n",
    "        betas = np.abs(self.fourier_image)\n",
    "        self.betas = betas\n",
    "        return betas\n",
    "\n",
    "    def gate(self, gamm=1.5):\n",
    "        filt = (1/gamm) * np.abs(self.fourier_image) / self.betas\n",
    "        filt = filt[filt>1]\n",
    "        return filt\n",
    "\n",
    "    def wiener_filt(self, gamm=1.5):\n",
    "        filt = np.abs(self.fourier_image) / (gamm*self.betas+np.abs(self.fourier_image))\n",
    "        return filt\n",
    "\n",
    "\n",
    "def noise_gate(data, gated_data=False, dct=False, image_indepen_noise=True):\n",
    "    \"\"\"\n",
    "    Noise-gate a data cube.\n",
    "\n",
    "    :param data: Data cube\n",
    "    :param gated_data: ???\n",
    "    :param dct: ???\n",
    "    \"\"\"\n",
    "    sz = data.shape\n",
    "    nx, ny, nz = sz[0], sz[1], sz[2]\n",
    "\n",
    "    win_size = 12\n",
    "    half_win = win_size / 2\n",
    "\n",
    "    # Apodisation cube for sub-images\n",
    "    apod = do_apod3d(win_size, win_size, win_size, squared=True)\n",
    "\n",
    "    noise_elem = int(nx*ny / win_size / win_size)\n",
    "    noise_arr = np.zeros(shape=(win_size, win_size, win_size, noise_elem))  # Scratch array = Zeroes array \n",
    "\n",
    "    # Loop for calculating noise profile -> Is this what can be parallelised?\n",
    "    h=0  # Height in image cube ???\n",
    "    print(\"Calculating noise model...\")\n",
    "\n",
    "    for i in np.arange(half_win, nx-half_win-1, step=win_size):\n",
    "        for j in np.arange(half_win, ny-half_win-1, step=win_size):\n",
    "\n",
    "            x = (int(i-half_win), int(i+half_win-1))\n",
    "            y = (int(j-half_win), int(j+half_win-1))\n",
    "\n",
    "            # SubImage and Apod\n",
    "            subImage = data[x[0]:x[1], y[0]:y[1],0:win_size-1] \n",
    "            # subImage = subImage * apod   # ISSUES HERE - PROBABLY TO DO WITH APOD3D CODE\n",
    "            print(subImage.shape, apod.shape)\n",
    "\n",
    "            # if dct:\n",
    "            #     fourier_image = dct_fft_3d(subImage, ortho=True)\n",
    "            # else:\n",
    "            #     fourier_image = None\n",
    "            #     # TODO: ADD CASE WHERE PERFORMING FFT\n",
    "\n",
    "            # subImageCube = ImageCube(subImage, fourier_image)\n",
    "\n",
    "            # if image_indepen_noise:\n",
    "            #     subImageCube._image_indepen_noise()\n",
    "            # else:\n",
    "            #     subImageCube._estimate_shot_noise()\n",
    "\n",
    "            # noise_arr[:,:,:, h] = subImageCube.betas\n",
    "            # h += 1\n",
    "\n",
    "    return noise_arr\n",
    "\n",
    "    # Set noise profile\n",
    "\n",
    "if __name__ == '__main__':\n",
    "\n",
    "    data_cube = np.random.rand(100,100,100)\n",
    "\n",
    "    noise_arr = noise_gate(data=data_cube)"
   ]
  },
  {
   "cell_type": "code",
   "execution_count": null,
   "metadata": {},
   "outputs": [],
   "source": [
    "noise_arr"
   ]
  }
 ],
 "metadata": {
  "language_info": {
   "codemirror_mode": {
    "name": "ipython",
    "version": 3
   },
   "file_extension": ".py",
   "mimetype": "text/x-python",
   "name": "python",
   "nbconvert_exporter": "python",
   "pygments_lexer": "ipython3",
   "version": "3.7.6-final"
  },
  "orig_nbformat": 2,
  "kernelspec": {
   "name": "python_defaultSpec_1599224695252",
   "display_name": "Python 3.7.6 64-bit ('base': conda)"
  }
 },
 "nbformat": 4,
 "nbformat_minor": 2
}